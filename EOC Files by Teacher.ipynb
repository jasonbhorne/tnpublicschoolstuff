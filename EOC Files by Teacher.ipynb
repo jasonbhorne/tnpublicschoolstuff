{
 "cells": [
  {
   "cell_type": "code",
   "execution_count": 1,
   "id": "b7f35218",
   "metadata": {},
   "outputs": [],
   "source": [
    "import pandas as pd\n",
    "import numpy as np\n",
    "\n",
    "filepath = ('Your/file/Path')\n",
    "\n",
    "# Read in the data file\n",
    "data = pd.read_csv(filepath)\n",
    "\n",
    "#columns to keep\n",
    "columns_to_keep = [\"SchoolNumber\", \"LastName\", \"FirstName\", \"MiddleInitial\", \"USID\", \"EnrolledGrade\", \"ContentAreaCode\", \"TeacherOfRecordLastName\", \"TeacherOfRecordFirstName\", \"TotalRawScore\", \"TotalPointPossible\"]\n",
    "\n",
    "# Calculate the QuickScore\n",
    "data[\"QuickScore\"] = np.round((21.5443 * np.cbrt((data[\"TotalRawScore\"] / data[\"TotalPointPossible\"]) * 100)), 0)\n",
    "\n",
    "# Drop the columns you don't need\n",
    "columns_to_drop = list(set(data.columns) - set(columns_to_keep + [\"QuickScore\"]))\n",
    "data = data.drop(columns_to_drop, axis=1)\n",
    "\n",
    "# Save the modified data to a new file\n",
    "data.to_csv(filepath, index=False)\n"
   ]
  },
  {
   "cell_type": "code",
   "execution_count": 1,
   "id": "5ccad729",
   "metadata": {},
   "outputs": [
    {
     "ename": "NameError",
     "evalue": "name 'filepath' is not defined",
     "output_type": "error",
     "traceback": [
      "\u001b[0;31m---------------------------------------------------------------------------\u001b[0m",
      "\u001b[0;31mNameError\u001b[0m                                 Traceback (most recent call last)",
      "\u001b[0;32m/var/folders/28/95jgwkdx0176zhxft7ldgnjw0000gn/T/ipykernel_7128/169863511.py\u001b[0m in \u001b[0;36m<module>\u001b[0;34m\u001b[0m\n\u001b[1;32m      2\u001b[0m \u001b[0;34m\u001b[0m\u001b[0m\n\u001b[1;32m      3\u001b[0m \u001b[0;31m# Read the data from the CSV file\u001b[0m\u001b[0;34m\u001b[0m\u001b[0;34m\u001b[0m\u001b[0m\n\u001b[0;32m----> 4\u001b[0;31m \u001b[0mdata\u001b[0m \u001b[0;34m=\u001b[0m \u001b[0mpd\u001b[0m\u001b[0;34m.\u001b[0m\u001b[0mread_csv\u001b[0m\u001b[0;34m(\u001b[0m\u001b[0mfilepath\u001b[0m\u001b[0;34m)\u001b[0m\u001b[0;34m\u001b[0m\u001b[0;34m\u001b[0m\u001b[0m\n\u001b[0m\u001b[1;32m      5\u001b[0m \u001b[0;34m\u001b[0m\u001b[0m\n\u001b[1;32m      6\u001b[0m \u001b[0;31m# Create a new column combining TeacherOfRecordLastName and ContentAreaCode\u001b[0m\u001b[0;34m\u001b[0m\u001b[0;34m\u001b[0m\u001b[0m\n",
      "\u001b[0;31mNameError\u001b[0m: name 'filepath' is not defined"
     ]
    }
   ],
   "source": [
    "import pandas as pd\n",
    "\n",
    "# Read the data from the CSV file\n",
    "data = pd.read_csv(filepath)\n",
    "\n",
    "# Create a new column combining TeacherOfRecordLastName and ContentAreaCode\n",
    "data[\"TeacherSubject\"] = data[\"TeacherOfRecordLastName\"] + \"_\" + data[\"ContentAreaCode\"]\n",
    "\n",
    "# Calculate the average TotalRawScore for each teacher-subject combination\n",
    "teacher_scores = data.groupby(\"TeacherSubject\")[\"TotalRawScore\"].mean()\n",
    "\n",
    "# Print the average scores for each teacher-subject combination\n",
    "print(teacher_scores)"
   ]
  },
  {
   "cell_type": "code",
   "execution_count": 2,
   "id": "114314b3",
   "metadata": {},
   "outputs": [],
   "source": [
    "import pandas as pd\n",
    "import os\n",
    "\n",
    "# Read the data from the CSV file\n",
    "data = pd.read_csv(filepath)\n",
    "\n",
    "# Create a new column combining TeacherOfRecordLastName and ContentAreaCode\n",
    "data[\"TeacherSubject\"] = data[\"TeacherOfRecordLastName\"] + \"_\" + data[\"ContentAreaCode\"]\n",
    "\n",
    "# Create the folder to store the teacher files if it doesn't exist\n",
    "output_folder = \"/Users/jasonhorne/QuickScores/Teacher_Files\"\n",
    "os.makedirs(output_folder, exist_ok=True)\n",
    "\n",
    "# Loop over each unique teacher-subject combination and save the filtered data to a separate file\n",
    "for teacher_subject, teacher_data in data.groupby(\"TeacherSubject\"):\n",
    "    # Generate the filename for the teacher file\n",
    "    filename = os.path.join(output_folder, teacher_subject + \".csv\")\n",
    "    \n",
    "    # Save the data to the teacher file\n",
    "    teacher_data.to_csv(filename, index=False)\n"
   ]
  },
  {
   "cell_type": "code",
   "execution_count": null,
   "id": "c89b271c",
   "metadata": {},
   "outputs": [],
   "source": []
  }
 ],
 "metadata": {
  "kernelspec": {
   "display_name": "Python 3 (ipykernel)",
   "language": "python",
   "name": "python3"
  },
  "language_info": {
   "codemirror_mode": {
    "name": "ipython",
    "version": 3
   },
   "file_extension": ".py",
   "mimetype": "text/x-python",
   "name": "python",
   "nbconvert_exporter": "python",
   "pygments_lexer": "ipython3",
   "version": "3.9.13"
  }
 },
 "nbformat": 4,
 "nbformat_minor": 5
}

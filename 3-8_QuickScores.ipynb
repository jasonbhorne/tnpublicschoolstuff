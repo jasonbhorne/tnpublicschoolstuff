{
 "cells": [
  {
   "cell_type": "code",
   "execution_count": 1,
   "id": "4271dc8e",
   "metadata": {},
   "outputs": [],
   "source": [
    "import pandas as pd\n",
    "import numpy as np\n",
    "\n",
    "# Read in the data file\n",
    "data = pd.read_csv(\"/Users/jasonhorne/QuickScores/3-8TCAP.csv\")\n",
    "\n",
    "#columns to keep\n",
    "columns_to_keep = [\"SchoolName\", \"LastName\", \"FirstName\", \"MiddleInitial\", \"USID\", \"EnrolledGrade\", \"ContentAreaCode\", \"TeacherOfRecordLastName\", \"TeacherOfRecordFirstName\", \"TotalRawScore\", \"TotalPointPossible\"]\n",
    "\n",
    "# Calculate the QuickScore\n",
    "data[\"QuickScore\"] = np.round((21.5443 * np.cbrt((data[\"TotalRawScore\"] / data[\"TotalPointPossible\"]) * 100)), 0)\n",
    "\n",
    "# Drop the columns you don't need\n",
    "columns_to_drop = list(set(data.columns) - set(columns_to_keep + [\"QuickScore\"]))\n",
    "data = data.drop(columns_to_drop, axis=1)\n",
    "\n",
    "# Save the modified data to a new file\n",
    "data.to_csv(\"/Users/jasonhorne/QuickScores/3-8TCAP_modified.csv\", index=False)\n"
   ]
  },
  {
   "cell_type": "code",
   "execution_count": 6,
   "id": "f897a2ba",
   "metadata": {},
   "outputs": [],
   "source": [
    "import pandas as pd\n",
    "\n",
    "# Read in the data file\n",
    "data = pd.read_csv(\"/Users/jasonhorne/QuickScores/3-8TCAP_modified.csv\")\n",
    "\n",
    "# Find the unique school names\n",
    "unique_schools = data[\"SchoolName\"].unique()\n",
    "\n",
    "# Loop over each unique school name and save the filtered data to a separate file\n",
    "for school in unique_schools:\n",
    "    # Filter the data for this school\n",
    "    school_data = data[data[\"SchoolName\"] == school]\n",
    "    \n",
    "    # Save the data to a CSV file\n",
    "    filename = \"/Users/jasonhorne/QuickScores/{}.csv\".format(school)\n",
    "    school_data.to_csv(filename, index=False)"
   ]
  },
  {
   "cell_type": "markdown",
   "id": "71317155",
   "metadata": {},
   "source": [
    "#importing the Yagmail library\n",
    "import yagmail\n",
    "try:\n",
    "    #initializing the server connection\n",
    "    yag = yagmail.SMTP(user='jasonhorne@gmail.com', password='hktlatqydlvwtbgk')\n",
    "    #sending the email\n",
    "    yag.send(to='jason.horne@ccpstn.net', subject='Testing Yagmail', contents='Hurray, it worked!')\n",
    "    print(\"Email sent successfully\")\n",
    "except:\n",
    "    print(\"Error, email was not sent\")"
   ]
  },
  {
   "cell_type": "code",
   "execution_count": 4,
   "id": "05d2387e",
   "metadata": {},
   "outputs": [],
   "source": [
    "import yagmail\n",
    "\n",
    "# Define the email parameters\n",
    "sender_email = \"jasonhorne@gmail.com\"\n",
    "sender_password = \"hktlatqydlvwtbgk\"\n",
    "reply_to_email = \"jason.horne@ccpstn.net\"\n",
    "subject = \"Quickscores\"\n",
    "body = \"Here are your quick scores. I will send another with your proficiency for 3rd grade.\"\n",
    "\n",
    "# Define the file attachments and recipients\n",
    "file_recipient_dict = {\n",
    "    \"/Users/jasonhorne/QuickScores/CARYVILLE ELEMENTARY.csv\": \"allison.poston@ccpstn.net\",\n",
    "    \"/Users/jasonhorne/QuickScores/Campbell County High School.csv\": \"benjamin.foust@ccpstn.net\",\n",
    "    \"/Users/jasonhorne/QuickScores/ELK VALLEY ELEMENTARY.csv\": \"Nancy.Lay@ccpsnt.net\",\n",
    "    \"/Users/jasonhorne/QuickScores/JACKSBORO ELEMENTARY.csv\": \"Casaey.Cox@ccpstn.net\",\n",
    "    \"/Users/jasonhorne/QuickScores/JACKSBORO MIDDLE SCHOOL.csv\": \"Gretchen.Thomas@ccpstn.net\",\n",
    "    \"/Users/jasonhorne/QuickScores/JELLICO ELEMENTARY.csv\": \"Kenneth.Chadwell@ccpstn.net\",\n",
    "    \"/Users/jasonhorne/QuickScores/Jellico High School.csv\": \"Danny.Oakes@ccpstn.net\",\n",
    "    \"/Users/jasonhorne/QuickScores/LAFOLLETTE ELEMENTARY SCHOOL.csv\": \"Bob.Walden@ccpstn.net\",\n",
    "    \"/Users/jasonhorne/QuickScores/LAFOLLETTE MIDDLE SCHOOL.csv\": \"Sandi.Wilson@ccpstn.net\",\n",
    "    \"/Users/jasonhorne/QuickScores/VALLEY VIEW ELEMENTARY.csv\": \"Jason.Dotson@ccpstn.net\",\n",
    "    \"/Users/jasonhorne/QuickScores/WHITE OAK ELEMENTARY.csv\": \"Pamela.Hill@ccpstn.net\",\n",
    "    \"/Users/jasonhorne/QuickScores/WYNN HABERSHAM ELEMENTARY.csv\": \"Danny.Sheckles@ccpstn.net\"\n",
    "}\n",
    "\n",
    "# Create a yagmail object\n",
    "yag = yagmail.SMTP(sender_email, sender_password)\n",
    "\n",
    "# Loop over each file and recipient and send the email with the corresponding file attachment\n",
    "for file, recipient in file_recipient_dict.items():\n",
    "    # Create the email message\n",
    "    msg = body + \"\\n\\n\" + \"THIS WAS JUST A TEST!\\n\" + recipient\n",
    "    # Send the email\n",
    "    yag.send(to=recipient, subject=subject, contents=msg, attachments=file)\n"
   ]
  },
  {
   "cell_type": "code",
   "execution_count": null,
   "id": "c2a4794d",
   "metadata": {},
   "outputs": [],
   "source": []
  }
 ],
 "metadata": {
  "kernelspec": {
   "display_name": "Python 3 (ipykernel)",
   "language": "python",
   "name": "python3"
  },
  "language_info": {
   "codemirror_mode": {
    "name": "ipython",
    "version": 3
   },
   "file_extension": ".py",
   "mimetype": "text/x-python",
   "name": "python",
   "nbconvert_exporter": "python",
   "pygments_lexer": "ipython3",
   "version": "3.9.13"
  }
 },
 "nbformat": 4,
 "nbformat_minor": 5
}

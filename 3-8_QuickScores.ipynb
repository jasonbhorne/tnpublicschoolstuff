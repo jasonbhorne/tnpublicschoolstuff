{
 "cells": [
  {
   "cell_type": "code",
   "execution_count": 1,
   "id": "4271dc8e",
   "metadata": {},
   "outputs": [],
   "source": [
    "import pandas as pd\n",
    "import numpy as np\n",
    "\n",
    "# Read in the data file\n",
    "data = pd.read_csv(\"/Users/jasonhorne/QuickScores/3-8TCAP.csv\")\n",
    "\n",
    "#columns to keep\n",
    "columns_to_keep = [\"SchoolName\", \"LastName\", \"FirstName\", \"MiddleInitial\", \"USID\", \"EnrolledGrade\", \"ContentAreaCode\", \"TeacherOfRecordLastName\", \"TeacherOfRecordFirstName\", \"TotalRawScore\", \"TotalPointPossible\"]\n",
    "\n",
    "# Calculate the QuickScore\n",
    "data[\"QuickScore\"] = np.round((21.5443 * np.cbrt((data[\"TotalRawScore\"] / data[\"TotalPointPossible\"]) * 100)), 0)\n",
    "\n",
    "# Drop the columns you don't need\n",
    "columns_to_drop = list(set(data.columns) - set(columns_to_keep + [\"QuickScore\"]))\n",
    "data = data.drop(columns_to_drop, axis=1)\n",
    "\n",
    "# Save the modified data to a new file\n",
    "data.to_csv(\"/Users/jasonhorne/QuickScores/3-8TCAP_modified.csv\", index=False)\n"
   ]
  },
  {
   "cell_type": "code",
   "execution_count": 6,
   "id": "f897a2ba",
   "metadata": {},
   "outputs": [],
   "source": [
    "import pandas as pd\n",
    "\n",
    "# Read in the data file\n",
    "data = pd.read_csv(\"/Users/jasonhorne/QuickScores/3-8TCAP_modified.csv\")\n",
    "\n",
    "# Find the unique school names\n",
    "unique_schools = data[\"SchoolName\"].unique()\n",
    "\n",
    "# Loop over each unique school name and save the filtered data to a separate file\n",
    "for school in unique_schools:\n",
    "    # Filter the data for this school\n",
    "    school_data = data[data[\"SchoolName\"] == school]\n",
    "    \n",
    "    # Save the data to a CSV file\n",
    "    filename = \"/Users/jasonhorne/QuickScores/{}.csv\".format(school)\n",
    "    school_data.to_csv(filename, index=False)"
   ]
  },
  {
   "cell_type": "markdown",
   "id": "71317155",
   "metadata": {},
   "source": [
  

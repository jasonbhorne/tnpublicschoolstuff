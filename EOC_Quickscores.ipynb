{
 "cells": [
  {
   "cell_type": "code",
   "execution_count": 1,
   "id": "b7f35218",
   "metadata": {},
   "outputs": [],
   "source": [
    "import pandas as pd\n",
    "import numpy as np\n",
    "\n",
    "# Read in the data file\n",
    "data = pd.read_csv(\"/EOC_QS.csv\")\n",
    "\n",
    "#columns to keep\n",
    "columns_to_keep = [\"SchoolNumber\", \"LastName\", \"FirstName\", \"MiddleInitial\", \"USID\", \"EnrolledGrade\", \"ContentAreaCode\", \"TeacherOfRecordLastName\", \"TeacherOfRecordFirstName\", \"TotalRawScore\", \"TotalPointPossible\"]\n",
    "\n",
    "# Calculate the QuickScore\n",
    "data[\"QuickScore\"] = np.round((21.5443 * np.cbrt((data[\"TotalRawScore\"] / data[\"TotalPointPossible\"]) * 100)), 0)\n",
    "\n",
    "# Drop the columns you don't need\n",
    "columns_to_drop = list(set(data.columns) - set(columns_to_keep + [\"QuickScore\"]))\n",
    "data = data.drop(columns_to_drop, axis=1)\n",
    "\n",
    "# Save the modified data to a new file\n",
    "data.to_csv(\"/Users/jasonhorne/QuickScores/EOC_QS_modified.csv\", index=False)\n"
   ]
  },
  {
   "cell_type": "code",
   "execution_count": 2,
   "id": "5ccad729",
   "metadata": {},
   "outputs": [],
   "source": [
    "import pandas as pd\n",
    "\n",
    "# Read in the data file\n",
    "data = pd.read_csv(\"/Users/jasonhorne/QuickScores/EOC_QS_modified.csv\")\n",
    "\n",
    "# Create a dictionary mapping SchoolNumber to SchoolName\n",
    "school_dict = {3: \"Campbell County High School\", 75: \"Jellico High School\"}\n",
    "\n",
    "# Add a new column called \"SchoolName\" based on the \"SchoolNumber\" column\n",
    "data[\"SchoolName\"] = data[\"SchoolNumber\"].apply(lambda x: school_dict.get(x, \"\"))\n",
    "\n",
    "# Move the \"SchoolName\" column to the first position\n",
    "cols = data.columns.tolist()\n",
    "cols = [cols[-2]] + [cols[-1]] + cols[:-2]\n",
    "data = data[cols]\n",
    "\n",
    "# Find the unique school names\n",
    "unique_schools = data[\"SchoolName\"].unique()\n",
    "\n",
    "# Loop over each unique school name and save the filtered data to a separate file\n",
    "for school in unique_schools:\n",
    "    # Filter the data for this school\n",
    "    school_data = data[data[\"SchoolName\"] == school]\n",
    "    \n",
    "    # Move the \"SchoolName\" column back to its original position\n",
    "    cols = school_data.columns.tolist()\n",
    "    cols = cols[1:13] + [cols[0]] + cols[13:]\n",
    "    school_data = school_data[cols]\n",
    "    \n",
    "    # Save the data to a CSV file\n",
    "    filename = \"/Your/Directory/{}.csv\".format(school)\n",
    "    school_data.to_csv(filename, index=False)\n"
   ]
  },
  {
   "cell_type": "code",
   "execution_count": 6,
   "id": "114314b3",
   "metadata": {},
   "outputs": [],
   "source": [
    "import pandas as pd\n",
    "\n",
    "# Read in the data file\n",
    "data = pd.read_csv(\"/Users/jasonhorne/QuickScores/EOC_QS_modified.csv\")\n",
    "\n",
    "# Create a dictionary mapping SchoolNumber to SchoolName\n",
    "school_dict = {3: \"Campbell County High School\", 75: \"Jellico High School\"}\n",
    "\n",
    "# Add a new column called \"SchoolName\" based on the \"SchoolNumber\" column\n",
    "data[\"SchoolName\"] = data[\"SchoolNumber\"].apply(lambda x: school_dict.get(x, \"\"))\n",
    "\n",
    "# Calculate the average raw score by teacher for each subject\n",
    "avg_scores = data.groupby([\"ContentAreaCode\", \"TeacherOfRecordLastName\"])[\"TotalRawScore\"].mean().reset_index()\n",
    "\n",
    "# Save the average scores to a CSV file\n",
    "avg_scores.to_csv(\"/Users/jasonhorne/QuickScores/average_scores.csv\", index=False)\n"
   ]
  },
  {
   "cell_type": "code",
   "execution_count": null,
   "id": "c89b271c",
   "metadata": {},
   "outputs": [],
   "source": []
  }
 ],
 "metadata": {
  "kernelspec": {
   "display_name": "Python 3 (ipykernel)",
   "language": "python",
   "name": "python3"
  },
  "language_info": {
   "codemirror_mode": {
    "name": "ipython",
    "version": 3
   },
   "file_extension": ".py",
   "mimetype": "text/x-python",
   "name": "python",
   "nbconvert_exporter": "python",
   "pygments_lexer": "ipython3",
   "version": "3.9.13"
  }
 },
 "nbformat": 4,
 "nbformat_minor": 5
}

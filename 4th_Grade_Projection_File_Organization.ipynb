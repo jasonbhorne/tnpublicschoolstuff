{
 "cells": [
  {
   "cell_type": "code",
   "execution_count": 3,
   "id": "c99f7bc0",
   "metadata": {},
   "outputs": [],
   "source": [
    "import pandas as pd\n",
    "df = pd.read_excel('4th_grade_growth_proj.xlsx')"
   ]
  },
  {
   "cell_type": "code",
   "execution_count": 4,
   "id": "7d939dbf",
   "metadata": {},
   "outputs": [
    {
     "data": {
      "text/plain": [
       "'Files have been created based on school name and saved to the designated directory.'"
      ]
     },
     "execution_count": 4,
     "metadata": {},
     "output_type": "execute_result"
    }
   ],
   "source": [
    "# Directory to save the new files\n",
    "output_dir = '/Your/Directory/'\n",
    "\n",
    "# Iterate through each group (school) and save to a new Excel file\n",
    "for school_name, group in df.groupby('school_name'):\n",
    "    # Format the school name to create a valid filename (remove special characters and spaces)\n",
    "    filename = school_name.replace(\" \", \"_\").replace(\",\", \"\").replace(\"'\", \"\") + '.xlsx'\n",
    "    file_path = output_dir + filename\n",
    "    \n",
    "    # Save each group to a new Excel file\n",
    "    group.to_excel(file_path, index=False)\n",
    "\n",
    "# Return a message indicating completion\n",
    "\"Files have been created based on school name and saved to the designated directory.\"\n"
   ]
  },
  {
   "cell_type": "code",
   "execution_count": null,
   "id": "b29454fd",
   "metadata": {},
   "outputs": [],
   "source": []
  }
 ],
 "metadata": {
  "kernelspec": {
   "display_name": "Python 3 (ipykernel)",
   "language": "python",
   "name": "python3"
  },
  "language_info": {
   "codemirror_mode": {
    "name": "ipython",
    "version": 3
   },
   "file_extension": ".py",
   "mimetype": "text/x-python",
   "name": "python",
   "nbconvert_exporter": "python",
   "pygments_lexer": "ipython3",
   "version": "3.9.13"
  }
 },
 "nbformat": 4,
 "nbformat_minor": 5
}

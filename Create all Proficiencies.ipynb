{
 "cells": [
  {
   "cell_type": "code",
   "execution_count": 1,
   "id": "a8ce6fe5",
   "metadata": {},
   "outputs": [],
   "source": [
    "import pandas as pd\n",
    "import numpy as np\n",
    "\n",
    "# Importing the dataset from CSV file (Change the file name, dummy)\n",
    "df = pd.read_csv('22_TCAP.csv')\n",
    "\n",
    "# Concatenating TestGrade and ContentAreaCode fields\n",
    "df['Grade_Subject'] = df['TestGrade'].astype(str) + '_' + df['ContentAreaCode']\n",
    "\n",
    "# Calculating overall percentage of students who are proficient for each Grade_Subject and SchoolName\n",
    "df['IsProficient'] = df['ProficiencyClassification'].isin(['Met Expectations', 'Exceeded Expectations'])\n",
    "pivot_table = pd.pivot_table(df, values='IsProficient', index=['SchoolName', 'Grade_Subject'], aggfunc=np.mean)\n",
    "pivot_table = pivot_table.reset_index()\n",
    "pivot_table['Percentage Proficient'] = pivot_table['IsProficient'] * 100\n",
    "\n",
    "# Writing pivot table data to separate CSV file\n",
    "pivot_table.to_csv('22_TCAP_data.csv', index=False)\n"
   ]
  },
  {
   "cell_type": "code",
   "execution_count": 4,
   "id": "3dd905b5",
   "metadata": {},
   "outputs": [
    {
     "name": "stdout",
     "output_type": "stream",
     "text": [
      "0       4_ENG\n",
      "1       4_MAT\n",
      "2       4_SCI\n",
      "3       4_ENG\n",
      "4       4_MAT\n",
      "        ...  \n",
      "7878    5_SCI\n",
      "7879    7_ENG\n",
      "7880    7_MAT\n",
      "7881    7_SCI\n",
      "7882    7_SOC\n",
      "Name: Grade_Subject, Length: 7883, dtype: object\n"
     ]
    }
   ],
   "source": [
    "print(df['Grade_Subject'])"
   ]
  },
  {
   "cell_type": "code",
   "execution_count": 13,
   "id": "4ae8e5b2",
   "metadata": {},
   "outputs": [],
   "source": [
    "import pandas as pd\n",
    "import numpy as np\n",
    "\n",
    "# Importing the dataset from CSV file (Change the file name, dummy)\n",
    "df = pd.read_csv('22_TCAP.csv')\n",
    "\n",
    "# Concatenating TestGrade and ContentAreaCode fields\n",
    "df['Grade_Subject'] = df['TestGrade'].astype(str) + '_' + df['ContentAreaCode']\n",
    "\n",
    "# Determining which students are proficient\n",
    "df['IsProficient'] = df['ProficiencyClassification'].isin(['Met Expectations', 'Exceeded Expectations'])\n",
    "\n",
    "# Calculating percentage of proficient students by SchoolName and Grade_Subject\n",
    "pivot_table = pd.pivot_table(df, values='IsProficient', index=['SchoolName', 'Grade_Subject'], aggfunc=np.mean)\n",
    "pivot_table = pivot_table.reset_index()\n",
    "pivot_table['Percentage Proficient'] = pivot_table['IsProficient'] * 100\n",
    "\n",
    "# Filtering data to include only grades 3-5 and 6-8\n",
    "df_filtered = df[(df['TestGrade'].isin(['03', '04', '05', '06', '07', '08']))]\n",
    "\n",
    "# Grouping data by SchoolName, ContentAreaCode, and Literacy/Numeracy\n",
    "df_filtered['Literacy/Numeracy'] = np.where(df_filtered['ContentAreaCode'].str.contains('ELA'), 'Literacy', 'Numeracy')\n",
    "grouped = df_filtered.groupby(['SchoolName', 'Literacy/Numeracy'])\n",
    "\n",
    "# Calculating percentage of proficient students by SchoolName and Literacy/Numeracy\n",
    "grouped_table = pd.DataFrame({'IsProficient': grouped['IsProficient'].mean()})\n",
    "grouped_table = grouped_table.reset_index()\n",
    "grouped_table['Percentage Proficient'] = grouped_table['IsProficient'] * 100\n",
    "\n",
    "# Renaming Literacy/Numeracy to Grade_Subject for consistency\n",
    "grouped_table = grouped_table.rename(columns={'Literacy/Numeracy': 'Grade_Subject'})\n",
    "\n",
    "# Concatenating proficiency tables for all grades and literacy/numeracy\n",
    "all_tables = pd.concat([pivot_table, grouped_table])\n",
    "\n",
    "# Creating new columns for overall Literacy and Numeracy proficiency for grades 3-5 and 6-8\n",
    "overall_lit_3_5 = all_tables[(all_tables['Grade_Subject'].isin(['3_ENG', '4_ENG', '5_ENG'])) & (all_tables['Grade_Subject'].str.contains('Literacy'))]['Percentage Proficient'].mean()\n",
    "overall_lit_6_8 = all_tables[(all_tables['Grade_Subject'].isin(['6_ENG', '7_ENG', '8_ENG'])) & (all_tables['Grade_Subject'].str.contains('Literacy'))]['Percentage Proficient'].mean()\n",
    "overall_mat_3_5 = all_tables[(all_tables['Grade_Subject'].isin(['3_MAT', '4_MAT', '5_MAT'])) & (all_tables['Grade_Subject'].str.contains('Numeracy'))]['Percentage Proficient'].mean()\n",
    "overall_mat_6_8 = all_tables[(all_tables['Grade_Subject'].isin(['6_MAT', '7_MAT', '8_MAT'])) & (all_tables['Grade_Subject'].str.contains('Numeracy'))]['Percentage Proficient'].mean()\n",
    "\n",
    "# Creating new rows for overall Literacy and Numeracy proficiency\n",
    "overall_lit_3_5_row = {'SchoolName': 'DISTRICT', 'Grade_Subject': '3-5_ENG', 'Percentage Proficient': overall_lit_3_5}\n",
    "overall_lit_6_8_row = {'SchoolName': 'DISTRICT', 'Grade_Subject': '6-8_ENG', 'Percentage Proficient': overall_lit_6_8}\n",
    "overall_mat_3_5_row = {'SchoolName': 'DISTRICT', 'Grade_Subject': '3-5_MAT', 'Percentage Proficient': overall_mat_3_5}\n",
    "overall_mat_6_8_row = {'SchoolName': 'DISTRICT', 'Grade_Subject': '6-8_MAT', 'Percentage Proficient': overall_mat_6_8}\n",
    "\n",
    "# Concatenating new rows to the proficiency table\n",
    "new_rows = [pd.DataFrame([overall_lit_3_5_row]), pd.DataFrame([overall_lit_6_8_row]), pd.DataFrame([overall_mat_3_5_row]), pd.DataFrame([overall_mat_6_8_row])]\n",
    "all_tables = pd.concat([all_tables] + new_rows, ignore_index=True)\n",
    "\n",
    "# Writing updated proficiency table to CSV file\n",
    "all_tables.to_csv('a.csv', index=False)\n",
    "\n",
    "\n"
   ]
  },
  {
   "cell_type": "code",
   "execution_count": 17,
   "id": "ac49b44f",
   "metadata": {},
   "outputs": [],
   "source": [
    "# Creating new DataFrame with the new rows\n",
    "new_df = pd.DataFrame([overall_lit_3_5_row, overall_lit_6_8_row, overall_mat_3_5_row, overall_mat_6_8_row])\n",
    "\n",
    "# Reading in the original data and concatenating with the new DataFrame\n",
    "df = pd.read_csv('22_TCAP.csv')\n",
    "df['Grade_Subject'] = df['TestGrade'].astype(str) + '_' + df['ContentAreaCode']\n",
    "df['IsProficient'] = df['ProficiencyClassification'].isin(['Met Expectations', 'Exceeded Expectations'])\n",
    "pivot_table = pd.pivot_table(df, values='IsProficient', index=['SchoolName', 'Grade_Subject'], aggfunc=np.mean)\n",
    "pivot_table = pivot_table.reset_index()\n",
    "all_tables = pd.concat([pivot_table, new_df], ignore_index=True)\n",
    "\n",
    "# Writing updated DataFrame to CSV file\n",
    "all_tables.to_csv('b.csv', index=False)\n"
   ]
  }
 ],
 "metadata": {
  "kernelspec": {
   "display_name": "Python 3 (ipykernel)",
   "language": "python",
   "name": "python3"
  },
  "language_info": {
   "codemirror_mode": {
    "name": "ipython",
    "version": 3
   },
   "file_extension": ".py",
   "mimetype": "text/x-python",
   "name": "python",
   "nbconvert_exporter": "python",
   "pygments_lexer": "ipython3",
   "version": "3.9.13"
  }
 },
 "nbformat": 4,
 "nbformat_minor": 5
}
